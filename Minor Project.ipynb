{
 "cells": [
  {
   "cell_type": "code",
   "execution_count": 1,
   "metadata": {},
   "outputs": [],
   "source": [
    "import pandas as pd\n",
    "import numpy as np\n",
    "import matplotlib.pyplot as plt\n",
    "import seaborn as sns\n",
    "import datetime"
   ]
  },
  {
   "cell_type": "code",
   "execution_count": 2,
   "metadata": {},
   "outputs": [],
   "source": [
    "df = pd.read_csv('appstore_games.csv') #Reading CSV file"
   ]
  },
  {
   "cell_type": "code",
   "execution_count": 3,
   "metadata": {},
   "outputs": [
    {
     "data": {
      "text/html": [
       "<div>\n",
       "<style scoped>\n",
       "    .dataframe tbody tr th:only-of-type {\n",
       "        vertical-align: middle;\n",
       "    }\n",
       "\n",
       "    .dataframe tbody tr th {\n",
       "        vertical-align: top;\n",
       "    }\n",
       "\n",
       "    .dataframe thead th {\n",
       "        text-align: right;\n",
       "    }\n",
       "</style>\n",
       "<table border=\"1\" class=\"dataframe\">\n",
       "  <thead>\n",
       "    <tr style=\"text-align: right;\">\n",
       "      <th></th>\n",
       "      <th>URL</th>\n",
       "      <th>ID</th>\n",
       "      <th>Name</th>\n",
       "      <th>Subtitle</th>\n",
       "      <th>Icon URL</th>\n",
       "      <th>Average User Rating</th>\n",
       "      <th>User Rating Count</th>\n",
       "      <th>Price</th>\n",
       "      <th>In-app Purchases</th>\n",
       "      <th>Description</th>\n",
       "      <th>Developer</th>\n",
       "      <th>Age Rating</th>\n",
       "      <th>Languages</th>\n",
       "      <th>Size</th>\n",
       "      <th>Primary Genre</th>\n",
       "      <th>Genres</th>\n",
       "      <th>Original Release Date</th>\n",
       "      <th>Current Version Release Date</th>\n",
       "    </tr>\n",
       "  </thead>\n",
       "  <tbody>\n",
       "    <tr>\n",
       "      <td>0</td>\n",
       "      <td>https://apps.apple.com/us/app/sudoku/id284921427</td>\n",
       "      <td>284921427</td>\n",
       "      <td>Sudoku</td>\n",
       "      <td>NaN</td>\n",
       "      <td>https://is2-ssl.mzstatic.com/image/thumb/Purpl...</td>\n",
       "      <td>4.0</td>\n",
       "      <td>3553.0</td>\n",
       "      <td>2.99</td>\n",
       "      <td>NaN</td>\n",
       "      <td>Join over 21,000,000 of our fans and download ...</td>\n",
       "      <td>Mighty Mighty Good Games</td>\n",
       "      <td>4+</td>\n",
       "      <td>DA, NL, EN, FI, FR, DE, IT, JA, KO, NB, PL, PT...</td>\n",
       "      <td>15853568.0</td>\n",
       "      <td>Games</td>\n",
       "      <td>Games, Strategy, Puzzle</td>\n",
       "      <td>11-07-2008</td>\n",
       "      <td>30-05-2017</td>\n",
       "    </tr>\n",
       "    <tr>\n",
       "      <td>1</td>\n",
       "      <td>https://apps.apple.com/us/app/reversi/id284926400</td>\n",
       "      <td>284926400</td>\n",
       "      <td>Reversi</td>\n",
       "      <td>NaN</td>\n",
       "      <td>https://is4-ssl.mzstatic.com/image/thumb/Purpl...</td>\n",
       "      <td>3.5</td>\n",
       "      <td>284.0</td>\n",
       "      <td>1.99</td>\n",
       "      <td>NaN</td>\n",
       "      <td>The classic game of Reversi, also known as Oth...</td>\n",
       "      <td>Kiss The Machine</td>\n",
       "      <td>4+</td>\n",
       "      <td>EN</td>\n",
       "      <td>12328960.0</td>\n",
       "      <td>Games</td>\n",
       "      <td>Games, Strategy, Board</td>\n",
       "      <td>11-07-2008</td>\n",
       "      <td>17-05-2018</td>\n",
       "    </tr>\n",
       "    <tr>\n",
       "      <td>2</td>\n",
       "      <td>https://apps.apple.com/us/app/morocco/id284946595</td>\n",
       "      <td>284946595</td>\n",
       "      <td>Morocco</td>\n",
       "      <td>NaN</td>\n",
       "      <td>https://is5-ssl.mzstatic.com/image/thumb/Purpl...</td>\n",
       "      <td>3.0</td>\n",
       "      <td>8376.0</td>\n",
       "      <td>0.00</td>\n",
       "      <td>NaN</td>\n",
       "      <td>Play the classic strategy game Othello (also k...</td>\n",
       "      <td>Bayou Games</td>\n",
       "      <td>4+</td>\n",
       "      <td>EN</td>\n",
       "      <td>674816.0</td>\n",
       "      <td>Games</td>\n",
       "      <td>Games, Board, Strategy</td>\n",
       "      <td>11-07-2008</td>\n",
       "      <td>05-09-2017</td>\n",
       "    </tr>\n",
       "    <tr>\n",
       "      <td>3</td>\n",
       "      <td>https://apps.apple.com/us/app/sudoku-free/id28...</td>\n",
       "      <td>285755462</td>\n",
       "      <td>Sudoku (Free)</td>\n",
       "      <td>NaN</td>\n",
       "      <td>https://is3-ssl.mzstatic.com/image/thumb/Purpl...</td>\n",
       "      <td>3.5</td>\n",
       "      <td>190394.0</td>\n",
       "      <td>0.00</td>\n",
       "      <td>NaN</td>\n",
       "      <td>Top 100 free app for over a year.\\nRated \"Best...</td>\n",
       "      <td>Mighty Mighty Good Games</td>\n",
       "      <td>4+</td>\n",
       "      <td>DA, NL, EN, FI, FR, DE, IT, JA, KO, NB, PL, PT...</td>\n",
       "      <td>21552128.0</td>\n",
       "      <td>Games</td>\n",
       "      <td>Games, Strategy, Puzzle</td>\n",
       "      <td>23-07-2008</td>\n",
       "      <td>30-05-2017</td>\n",
       "    </tr>\n",
       "    <tr>\n",
       "      <td>4</td>\n",
       "      <td>https://apps.apple.com/us/app/senet-deluxe/id2...</td>\n",
       "      <td>285831220</td>\n",
       "      <td>Senet Deluxe</td>\n",
       "      <td>NaN</td>\n",
       "      <td>https://is1-ssl.mzstatic.com/image/thumb/Purpl...</td>\n",
       "      <td>3.5</td>\n",
       "      <td>28.0</td>\n",
       "      <td>2.99</td>\n",
       "      <td>NaN</td>\n",
       "      <td>\"Senet Deluxe - The Ancient Game of Life and A...</td>\n",
       "      <td>RoGame Software</td>\n",
       "      <td>4+</td>\n",
       "      <td>DA, NL, EN, FR, DE, EL, IT, JA, KO, NO, PT, RU...</td>\n",
       "      <td>34689024.0</td>\n",
       "      <td>Games</td>\n",
       "      <td>Games, Strategy, Board, Education</td>\n",
       "      <td>18-07-2008</td>\n",
       "      <td>22-07-2018</td>\n",
       "    </tr>\n",
       "  </tbody>\n",
       "</table>\n",
       "</div>"
      ],
      "text/plain": [
       "                                                 URL         ID  \\\n",
       "0   https://apps.apple.com/us/app/sudoku/id284921427  284921427   \n",
       "1  https://apps.apple.com/us/app/reversi/id284926400  284926400   \n",
       "2  https://apps.apple.com/us/app/morocco/id284946595  284946595   \n",
       "3  https://apps.apple.com/us/app/sudoku-free/id28...  285755462   \n",
       "4  https://apps.apple.com/us/app/senet-deluxe/id2...  285831220   \n",
       "\n",
       "            Name Subtitle                                           Icon URL  \\\n",
       "0         Sudoku      NaN  https://is2-ssl.mzstatic.com/image/thumb/Purpl...   \n",
       "1        Reversi      NaN  https://is4-ssl.mzstatic.com/image/thumb/Purpl...   \n",
       "2        Morocco      NaN  https://is5-ssl.mzstatic.com/image/thumb/Purpl...   \n",
       "3  Sudoku (Free)      NaN  https://is3-ssl.mzstatic.com/image/thumb/Purpl...   \n",
       "4   Senet Deluxe      NaN  https://is1-ssl.mzstatic.com/image/thumb/Purpl...   \n",
       "\n",
       "   Average User Rating  User Rating Count  Price In-app Purchases  \\\n",
       "0                  4.0             3553.0   2.99              NaN   \n",
       "1                  3.5              284.0   1.99              NaN   \n",
       "2                  3.0             8376.0   0.00              NaN   \n",
       "3                  3.5           190394.0   0.00              NaN   \n",
       "4                  3.5               28.0   2.99              NaN   \n",
       "\n",
       "                                         Description  \\\n",
       "0  Join over 21,000,000 of our fans and download ...   \n",
       "1  The classic game of Reversi, also known as Oth...   \n",
       "2  Play the classic strategy game Othello (also k...   \n",
       "3  Top 100 free app for over a year.\\nRated \"Best...   \n",
       "4  \"Senet Deluxe - The Ancient Game of Life and A...   \n",
       "\n",
       "                  Developer Age Rating  \\\n",
       "0  Mighty Mighty Good Games         4+   \n",
       "1          Kiss The Machine         4+   \n",
       "2               Bayou Games         4+   \n",
       "3  Mighty Mighty Good Games         4+   \n",
       "4           RoGame Software         4+   \n",
       "\n",
       "                                           Languages        Size  \\\n",
       "0  DA, NL, EN, FI, FR, DE, IT, JA, KO, NB, PL, PT...  15853568.0   \n",
       "1                                                 EN  12328960.0   \n",
       "2                                                 EN    674816.0   \n",
       "3  DA, NL, EN, FI, FR, DE, IT, JA, KO, NB, PL, PT...  21552128.0   \n",
       "4  DA, NL, EN, FR, DE, EL, IT, JA, KO, NO, PT, RU...  34689024.0   \n",
       "\n",
       "  Primary Genre                             Genres Original Release Date  \\\n",
       "0         Games            Games, Strategy, Puzzle            11-07-2008   \n",
       "1         Games             Games, Strategy, Board            11-07-2008   \n",
       "2         Games             Games, Board, Strategy            11-07-2008   \n",
       "3         Games            Games, Strategy, Puzzle            23-07-2008   \n",
       "4         Games  Games, Strategy, Board, Education            18-07-2008   \n",
       "\n",
       "  Current Version Release Date  \n",
       "0                   30-05-2017  \n",
       "1                   17-05-2018  \n",
       "2                   05-09-2017  \n",
       "3                   30-05-2017  \n",
       "4                   22-07-2018  "
      ]
     },
     "execution_count": 3,
     "metadata": {},
     "output_type": "execute_result"
    }
   ],
   "source": [
    "df.head()"
   ]
  },
  {
   "cell_type": "markdown",
   "metadata": {},
   "source": [
    "# DATA CLEANING"
   ]
  },
  {
   "cell_type": "code",
   "execution_count": 4,
   "metadata": {},
   "outputs": [],
   "source": [
    "#Removing Empty values in User Rating Count\n",
    "df['User Rating Count'].replace('', np.nan, inplace=True)\n",
    "df.dropna(subset=['User Rating Count'], inplace=True)"
   ]
  },
  {
   "cell_type": "code",
   "execution_count": 5,
   "metadata": {},
   "outputs": [
    {
     "data": {
      "text/plain": [
       "7561"
      ]
     },
     "execution_count": 5,
     "metadata": {},
     "output_type": "execute_result"
    }
   ],
   "source": [
    "len(df) # No. of from 17007 to 7561"
   ]
  },
  {
   "cell_type": "code",
   "execution_count": 6,
   "metadata": {},
   "outputs": [],
   "source": [
    "# Droping unwanted columns and Games with less than 200 user rating\n",
    "df.drop(['URL', 'ID', 'Subtitle', 'Icon URL', 'Description', 'Developer', 'Languages'], axis = 1, inplace = True)\n",
    "df['time'] = (pd.to_datetime(df['Original Release Date']) - pd.to_datetime(df['Current Version Release Date'])) <= \\\n",
    "\t\t\tdatetime.timedelta(days=180)\n",
    "df = df[df['User Rating Count'] >= 200]\n",
    "df = df[df['time']]\n",
    "df.drop('time', axis=1, inplace=True)"
   ]
  },
  {
   "cell_type": "code",
   "execution_count": 7,
   "metadata": {},
   "outputs": [
    {
     "data": {
      "text/plain": [
       "2232"
      ]
     },
     "execution_count": 7,
     "metadata": {},
     "output_type": "execute_result"
    }
   ],
   "source": [
    "len(df)"
   ]
  },
  {
   "cell_type": "code",
   "execution_count": 8,
   "metadata": {},
   "outputs": [],
   "source": [
    "df.drop(['Current Version Release Date', 'Original Release Date', 'Primary Genre'], axis=1, inplace=True)\n",
    "#Removed Released Date columns"
   ]
  },
  {
   "cell_type": "code",
   "execution_count": 9,
   "metadata": {},
   "outputs": [
    {
     "data": {
      "text/plain": [
       "Index(['Name', 'Average User Rating', 'User Rating Count', 'Price',\n",
       "       'In-app Purchases', 'Age Rating', 'Size', 'Genres'],\n",
       "      dtype='object')"
      ]
     },
     "execution_count": 9,
     "metadata": {},
     "output_type": "execute_result"
    }
   ],
   "source": [
    "df.columns"
   ]
  },
  {
   "cell_type": "code",
   "execution_count": 10,
   "metadata": {},
   "outputs": [],
   "source": [
    "new = df['Genres'].str.split(', ', expand=True)\n",
    "new.replace('Games', '', inplace=True)\n",
    "new.replace('Entertainment', '', inplace=True)\n",
    "new.replace('Strategy', '', inplace=True)\n",
    "new.replace('Board', 'Puzzle', inplace=True)\n",
    "new.replace('Role', 'Adventure', inplace=True)\n",
    "new.replace('Role Playing', 'Adventure', inplace=True)\n",
    "new.replace('Education', 'Family', inplace=True)\n",
    "new.replace('', np.nan, inplace=True)\n",
    "df['Genres'] = new[[0, 1, 2, 3]].apply(lambda x: ','.join(x.dropna()), axis=1)\n",
    "df['Primary_Genre'] = df['Genres'].str.split(',', expand=True)[0]\n",
    "df['Primary_Genre'].replace('', np.nan, inplace=True)\n",
    "df.dropna(subset=['Primary_Genre'], inplace=True)\n",
    "df['Average_User_Rating'] = df['Average User Rating']"
   ]
  },
  {
   "cell_type": "raw",
   "metadata": {},
   "source": [
    "->REMOVED Games,Entertainment,Strategy from Genres\n",
    "\n",
    "Replacing method \n",
    "->   1. Puzzle= Puzzle/Board\n",
    "     2. Adventure= Adventure/Role/Role Playing\n",
    "     3. Action = Action\n",
    "     4. Family = Family/Education\n",
    "     \n",
    "-> then the first genre we are taking as Primary_Genre"
   ]
  },
  {
   "cell_type": "code",
   "execution_count": 11,
   "metadata": {},
   "outputs": [
    {
     "data": {
      "text/plain": [
       "Puzzle                    477\n",
       "Simulation                455\n",
       "Adventure                 410\n",
       "Action                    392\n",
       "Card                      120\n",
       "Family                    109\n",
       "Casual                    100\n",
       "Sports                     34\n",
       "Social Networking          11\n",
       "Utilities                   9\n",
       "Lifestyle                   8\n",
       "Music                       8\n",
       "Trivia                      8\n",
       "Finance                     8\n",
       "Casino                      5\n",
       "Racing                      5\n",
       "Reference                   4\n",
       "Health & Fitness            4\n",
       "Word                        4\n",
       "Navigation                  3\n",
       "Business                    2\n",
       "Medical                     2\n",
       "News                        2\n",
       "Magazines & Newspapers      1\n",
       "Photo & Video               1\n",
       "Travel                      1\n",
       "Books                       1\n",
       "Name: Primary_Genre, dtype: int64"
      ]
     },
     "execution_count": 11,
     "metadata": {},
     "output_type": "execute_result"
    }
   ],
   "source": [
    "df['Primary_Genre'].value_counts()"
   ]
  },
  {
   "cell_type": "code",
   "execution_count": 12,
   "metadata": {},
   "outputs": [
    {
     "data": {
      "text/plain": [
       "Index(['Name', 'Average User Rating', 'User Rating Count', 'Price',\n",
       "       'In-app Purchases', 'Age Rating', 'Size', 'Genres', 'Primary_Genre',\n",
       "       'Average_User_Rating'],\n",
       "      dtype='object')"
      ]
     },
     "execution_count": 12,
     "metadata": {},
     "output_type": "execute_result"
    }
   ],
   "source": [
    "df.columns"
   ]
  },
  {
   "cell_type": "code",
   "execution_count": 13,
   "metadata": {},
   "outputs": [],
   "source": [
    "df.drop(['Average User Rating','Genres'], axis=1, inplace=True)"
   ]
  },
  {
   "cell_type": "code",
   "execution_count": 14,
   "metadata": {},
   "outputs": [
    {
     "data": {
      "text/plain": [
       "Index(['Name', 'User Rating Count', 'Price', 'In-app Purchases', 'Age Rating',\n",
       "       'Size', 'Primary_Genre', 'Average_User_Rating'],\n",
       "      dtype='object')"
      ]
     },
     "execution_count": 14,
     "metadata": {},
     "output_type": "execute_result"
    }
   ],
   "source": [
    "df.columns"
   ]
  },
  {
   "cell_type": "markdown",
   "metadata": {},
   "source": [
    "#  Identify Which Genres Have Higher User Ratings"
   ]
  },
  {
   "cell_type": "code",
   "execution_count": 15,
   "metadata": {},
   "outputs": [],
   "source": [
    "Rating = [df.Primary_Genre[(df['Primary_Genre']=='Puzzle')].count(),df.Primary_Genre[(df['Primary_Genre']=='Action')].count(),\\\n",
    "     df.Primary_Genre[(df['Primary_Genre']=='Adventure')].count(),df.Primary_Genre[(df['Primary_Genre']=='Family')].count(),\\\n",
    "     df.Primary_Genre[(df['Primary_Genre']=='Simulation')].count(),df.Primary_Genre[(df['Primary_Genre']=='Card')].count(),\\\n",
    "     df.Primary_Genre[(df['Primary_Genre']=='Casual')].count(), df.Primary_Genre[(df['Primary_Genre']=='Sports')].count(),\\\n",
    "     df.Primary_Genre[(df['Primary_Genre']=='Social Networking')].count() ]\n",
    "genres = ['Puzzle','Action','Adventure','Family','Simulation','Card','Casual', 'Sports','Social']"
   ]
  },
  {
   "cell_type": "code",
   "execution_count": 16,
   "metadata": {},
   "outputs": [
    {
     "name": "stdout",
     "output_type": "stream",
     "text": [
      "[22.63, 18.6, 19.45, 5.17, 21.58, 5.69, 4.74, 1.61, 0.52]\n"
     ]
    }
   ],
   "source": [
    "su = sum(Rating)\n",
    "rating_percentage = []\n",
    "for i in range(len(Rating)):\n",
    "\trating_percentage.append(round((Rating[i]/su)*100,2))\n",
    "print(rating_percentage)"
   ]
  },
  {
   "cell_type": "code",
   "execution_count": 17,
   "metadata": {},
   "outputs": [
    {
     "data": {
      "image/png": "[encoded data removed]",
      "text/plain": [
       "<Figure size 432x288 with 1 Axes>"
      ]
     },
     "metadata": {
      "needs_background": "light"
     },
     "output_type": "display_data"
    }
   ],
   "source": [
    "plt.barh(genres, rating_percentage, color='g')\n",
    "for index, value in enumerate(rating_percentage):\n",
    "    plt.text(value, index, str(value))\n",
    "plt.ylabel('Genres')\n",
    "plt.xlabel('Rating_percentage')\n",
    "plt.title('Average Rating VS Genres')\n",
    "plt.xlim(0, 30)\n",
    "plt.show()"
   ]
  },
  {
   "cell_type": "code",
   "execution_count": 18,
   "metadata": {},
   "outputs": [],
   "source": [
    "R = [df.Average_User_Rating[(df['Primary_Genre']=='Puzzle')].sum(),df.Average_User_Rating[(df['Primary_Genre']=='Action')].sum(),\\\n",
    "     df.Average_User_Rating[(df['Primary_Genre']=='Adventure')].sum(),df.Average_User_Rating[(df['Primary_Genre']=='Family')].sum(),\\\n",
    "     df.Average_User_Rating[(df['Primary_Genre']=='Simulation')].sum(),df.Average_User_Rating[(df['Primary_Genre']=='Card')].sum(),\\\n",
    "     df.Average_User_Rating[(df['Primary_Genre']=='Casual')].sum(), df.Average_User_Rating[(df['Primary_Genre']=='Sports')].sum(),\\\n",
    "     df.Average_User_Rating[(df['Primary_Genre']=='Social Networking')].sum() ]\n",
    "\n",
    "me = []\n",
    "for i in range(len(R)):\n",
    "\tme.append(round(R[i]/Rating[i],2))"
   ]
  },
  {
   "cell_type": "code",
   "execution_count": 19,
   "metadata": {},
   "outputs": [
    {
     "data": {
      "image/png": "[encoded data removed]",
      "text/plain": [
       "<Figure size 432x288 with 1 Axes>"
      ]
     },
     "metadata": {
      "needs_background": "light"
     },
     "output_type": "display_data"
    }
   ],
   "source": [
    "plt.barh(genres, me, color='g')\n",
    "for index, value in enumerate(me):\n",
    "    plt.text(value, index, str(value))\n",
    "plt.ylabel('Genres')\n",
    "plt.xlabel('Rating_percentage')\n",
    "plt.title('Average Rating VS Genres')\n",
    "plt.xlim(3, 5)\n",
    "plt.show()"
   ]
  },
  {
   "cell_type": "code",
   "execution_count": 20,
   "metadata": {},
   "outputs": [],
   "source": [
    "array = ['Puzzle', 'Adventure', 'Action', 'Family','Simulation', 'Card', 'Casual']\n",
    "df = df.loc[df['Primary_Genre'].isin(array)]"
   ]
  },
  {
   "cell_type": "code",
   "execution_count": 21,
   "metadata": {},
   "outputs": [
    {
     "data": {
      "image/png": "[encoded data removed]",
      "text/plain": [
       "<Figure size 480x300 with 1 Axes>"
      ]
     },
     "metadata": {
      "needs_background": "light"
     },
     "output_type": "display_data"
    }
   ],
   "source": [
    "plt.figure(figsize=(8,5),dpi=60)\n",
    "plt.scatter(df[\"User Rating Count\"],df[\"Price\"])\n",
    "plt.xlabel('User Rating')\n",
    "plt.ylabel('Price')\n",
    "plt.show()"
   ]
  },
  {
   "cell_type": "code",
   "execution_count": 22,
   "metadata": {},
   "outputs": [
    {
     "data": {
      "image/png": "[encoded data removed]",
      "text/plain": [
       "<Figure size 480x300 with 1 Axes>"
      ]
     },
     "metadata": {
      "needs_background": "light"
     },
     "output_type": "display_data"
    },
    {
     "data": {
      "image/png": "[encoded data removed]",
      "text/plain": [
       "<Figure size 480x300 with 1 Axes>"
      ]
     },
     "metadata": {
      "needs_background": "light"
     },
     "output_type": "display_data"
    }
   ],
   "source": [
    "plt.figure(figsize=(8,5),dpi=60)\n",
    "plt.scatter(df[\"Primary_Genre\"],df[\"Price\"])\n",
    "plt.xlabel('User Rating')\n",
    "plt.ylabel('Price')\n",
    "plt.show()\n",
    "plt.figure(figsize=(8,5),dpi=60)\n",
    "plt.scatter(df[\"Average_User_Rating\"],df[\"Price\"])\n",
    "plt.xlabel('User Rating')\n",
    "plt.ylabel('Price')\n",
    "plt.show()\n"
   ]
  },
  {
   "cell_type": "markdown",
   "metadata": {},
   "source": [
    "Inference made:\n",
    "* As per User rating count Genre for Games are as follows Puzzle > Simulation > Adventure > Action > Card etc. But, Average user rating follows Family > Social > Action >Adventure > ........ >Puzzle this order. \n",
    "* We know that they are very less apps based on Social, Sports, Family, News, Life Style, \n",
    "* Almost many app developers focus revenue on In-app Purchases.\n",
    "* Almost 95% of apps in 'App Store' are Free!!.\n",
    "* Paid apps have better reviews and ratings that are above 7.5.\n",
    "* on average most of the genres have rating between 4.00 and 4.50."
   ]
  },
  {
   "cell_type": "code",
   "execution_count": null,
   "metadata": {},
   "outputs": [],
   "source": []
  }
 ],
 "metadata": {
  "kernelspec": {
   "display_name": "Python 3",
   "language": "python",
   "name": "python3"
  },
  "language_info": {
   "codemirror_mode": {
    "name": "ipython",
    "version": 3
   },
   "file_extension": ".py",
   "mimetype": "text/x-python",
   "name": "python",
   "nbconvert_exporter": "python",
   "pygments_lexer": "ipython3",
   "version": "3.7.4"
  }
 },
 "nbformat": 4,
 "nbformat_minor": 2
}
